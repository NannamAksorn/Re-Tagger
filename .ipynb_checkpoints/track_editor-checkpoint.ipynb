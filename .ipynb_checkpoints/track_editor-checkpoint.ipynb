{
 "cells": [
  {
   "cell_type": "code",
   "execution_count": null,
   "metadata": {},
   "outputs": [],
   "source": [
    "import os\n",
    "import csv\n",
    "import cv2\n",
    "import glob\n",
    "from PIL import Image\n",
    "from datetime import datetime, timedelta"
   ]
  },
  {
   "cell_type": "code",
   "execution_count": null,
   "metadata": {},
   "outputs": [],
   "source": [
    "key_files = glob.glob('key/*/*.csv')"
   ]
  },
  {
   "cell_type": "code",
   "execution_count": null,
   "metadata": {
    "scrolled": true
   },
   "outputs": [],
   "source": [
    "key_file, video_file"
   ]
  },
  {
   "cell_type": "code",
   "execution_count": null,
   "metadata": {},
   "outputs": [],
   "source": [
    "room_number = key_file.split('/')[1][:3]\n",
    "csv_date = parse_date(key_file)\n",
    "next_date = csv_date - timedelta(days=1)\n",
    "m = csv_date.month\n",
    "mdd = '{}{:02d}'.format(csv_date.month,csv_date.day)\n",
    "mdd2 = '{}{:02d}'.format(next_date.month,next_date.day)\n",
    "path = '/Volumes/MIMAMORI_101/FFOutput/video/{}-20160{}*.mp4'.format(room_number,mdd)\n",
    "path2 = '/Volumes/MIMAMORI_101/FFOutput/video/{}-20160{}*.mp4'.format(room_number,mdd2)\n",
    "videofiles = glob.glob(path) + glob.glob(path2)\n"
   ]
  },
  {
   "cell_type": "code",
   "execution_count": null,
   "metadata": {},
   "outputs": [],
   "source": [
    "test_key = key_files[0]"
   ]
  },
  {
   "cell_type": "code",
   "execution_count": null,
   "metadata": {},
   "outputs": [],
   "source": [
    "with open(test_key, 'r') as csv_file:\n",
    "    reader = csv.reader(csv_file)\n",
    "    csv_data = list(reader)"
   ]
  },
  {
   "cell_type": "code",
   "execution_count": null,
   "metadata": {},
   "outputs": [],
   "source": [
    "video_dir = '/Volumes/MIMAMORI_101/FFOutput/video'\n",
    "video_files = [os.path.join(video_dir, file) for file in os.listdir(video_dir) if file.endswith('mp4')]\n",
    "cap = cv2.VideoCapture(video_dir + video_files[0])"
   ]
  },
  {
   "cell_type": "code",
   "execution_count": null,
   "metadata": {},
   "outputs": [],
   "source": [
    "def getFrame(myFrameNumber = 0):\n",
    "    '''return cv2 frame at frame number'''\n",
    "    cap.set(cv2.CAP_PROP_POS_AVI_RATIO,1)\n",
    "    totalFrames = cap.get(cv2.CAP_PROP_FRAME_COUNT)\n",
    "    if myFrameNumber >= 0 and myFrameNumber <= totalFrames:\n",
    "        cap.set(cv2.CAP_PROP_POS_FRAMES,myFrameNumber)\n",
    "    print(totalFrames)\n",
    "    return totalFrames"
   ]
  },
  {
   "cell_type": "markdown",
   "metadata": {},
   "source": [
    "# Remove duplicate tag"
   ]
  },
  {
   "cell_type": "code",
   "execution_count": null,
   "metadata": {},
   "outputs": [],
   "source": [
    "def clean_data(csv_data):\n",
    "    temp = csv_data.copy()\n",
    "    temp.sort(key = lambda x: int(x[0]))\n",
    "    for i in range(len(temp)):\n",
    "        try:\n",
    "            while temp[i][1] == temp[i+1][1]:\n",
    "                if i+1 == len(temp) -1: \n",
    "                    break\n",
    "                del(temp[i+1])\n",
    "        except Exception as e:\n",
    "            pass\n",
    "    return temp"
   ]
  },
  {
   "cell_type": "code",
   "execution_count": null,
   "metadata": {},
   "outputs": [],
   "source": [
    "video_file = video_files[0]"
   ]
  },
  {
   "cell_type": "markdown",
   "metadata": {},
   "source": [
    "# Parse video date"
   ]
  },
  {
   "cell_type": "code",
   "execution_count": null,
   "metadata": {},
   "outputs": [],
   "source": [
    "def parse_date(filePath):\n",
    "    '''parse video date from filename'''\n",
    "    filePath = os.path.basename(filePath)\n",
    "    if filePath.endswith('csv'):\n",
    "        date_str = filePath[18:33]\n",
    "        csv_date = datetime.strptime(date_str, '%Y%m%d_%H%M%S')\n",
    "        csv_date  = csv_date.replace(year=csv_date.year-543)\n",
    "        return csv_date\n",
    "    else:\n",
    "        date_str = filePath[4:-4]\n",
    "        video_date = datetime.strptime(date_str, '%Y%m%d_%H-%M-%S')\n",
    "        return video_date\n",
    "        "
   ]
  },
  {
   "cell_type": "code",
   "execution_count": null,
   "metadata": {},
   "outputs": [],
   "source": [
    "def get_delta_frame(csv_date, video_date):\n",
    "    delta = csv_date - video_date\n",
    "    delta_frame = delta.total_seconds() * 30\n",
    "    return delta_frame"
   ]
  },
  {
   "cell_type": "code",
   "execution_count": null,
   "metadata": {},
   "outputs": [],
   "source": [
    "def isBetween(csv_date, videofile):\n",
    "    start = parse_date(videofile)\n",
    "    if csv_date < start:\n",
    "        return False\n",
    "    \n",
    "    cap = cv2.VideoCapture(video_file)\n",
    "    cap.set(cv2.CAP_PROP_POS_AVI_RATIO,1)\n",
    "    duration = cap.get(cv2.CAP_PROP_POS_MSEC) / 1000\n",
    "    end = start + timedelta(seconds=duration)\n",
    "\n",
    "    if start <= csv_date <= end:\n",
    "        print(start,csv_date,end)\n",
    "        return True\n",
    "    else:\n",
    "        return False"
   ]
  },
  {
   "cell_type": "markdown",
   "metadata": {},
   "source": [
    "# Get Video"
   ]
  },
  {
   "cell_type": "code",
   "execution_count": null,
   "metadata": {},
   "outputs": [],
   "source": [
    "key_file = key_files[2]\n",
    "video_file = 'video/402-20160804_18-24-05.mp4'\n",
    "\n",
    "csv_date = parse_date(key_file)\n",
    "\n",
    "cap = cv2.VideoCapture(video_file)\n",
    "cap.set(cv2.CAP_PROP_POS_AVI_RATIO,1)\n",
    "duration = cap.get(cv2.CAP_PROP_POS_MSEC) / 1000\n",
    "start = parse_date(video_file)\n",
    "end = start + timedelta(seconds=duration)\n",
    "\n",
    "print(csv_date)\n",
    "print(start,end,duration)\n",
    "start <= csv_date <= end\n",
    "\n",
    "frame = getFrame(get_delta_frame(csv_date, parse_date(video_file)) + int(tag[0]))\n",
    "img = cap.read()[1]\n",
    "Image.fromarray(img)"
   ]
  },
  {
   "cell_type": "code",
   "execution_count": null,
   "metadata": {},
   "outputs": [],
   "source": [
    "total_tag = 0\n",
    "for key_file in key_files:\n",
    "    with open(key_file, 'r') as csv_file:\n",
    "        reader = csv.reader(csv_file)\n",
    "        csv_data = list(reader)\n",
    "    temp = csv_data.copy()\n",
    "    temp = clean_data(temp)\n",
    "    csv_date = parse_date(key_file)\n",
    "    \n",
    "    #get videofiles\n",
    "    room_number = key_file.split('/')[1][:3]\n",
    "    next_date = csv_date - timedelta(days=1)\n",
    "    m = csv_date.month\n",
    "    mdd = '{}{:02d}'.format(csv_date.month,csv_date.day)\n",
    "    mdd2 = '{}{:02d}'.format(next_date.month,next_date.day)\n",
    "    path = '/Volumes/MIMAMORI_101/FFOutput/video/{}-20160{}*.mp4'.format(room_number,mdd)\n",
    "    path2 = '/Volumes/MIMAMORI_101/FFOutput/video/{}-20160{}*.mp4'.format(room_number,mdd2)\n",
    "    videofiles = glob.glob(path) + glob.glob(path2)\n",
    "    \n",
    "    for i, tag in enumerate(temp):\n",
    "        if int(tag[1]) == 3 and i != len(temp)-1:\n",
    "            total_tag += 1\n",
    "            #get Video\n",
    "            csv_date_new = csv_date + timedelta(seconds=int(tag[0])/30)\n",
    "            if not isBetween(csv_date_new, video_file):\n",
    "                for video_file in video_files:\n",
    "                    if isBetween(csv_date_new, video_file):\n",
    "                        break\n",
    "            try:\n",
    "                #get frame\n",
    "                cap = cv2.VideoCapture(video_file)\n",
    "                frame = getFrame(get_delta_frame(csv_date, parse_date(video_file)) + int(tag[0]))\n",
    "                img = cap.read()[1]\n",
    "                Image.fromarray(img).show()\n",
    "                cap.release()\n",
    "                new_tag = input('Enter new tag@{}: '.format(csv_date))\n",
    "                temp[i][1] = new_tag\n",
    "                if i != 0 and len(temp[i-1][1]) == 2:\n",
    "                    if temp[i-1][1][0] == new_tag:\n",
    "                        temp[i-1][1] = new_tag    \n",
    "                    else:\n",
    "                        temp[i-1][1] = temp[i-1][1][0] + new_tag\n",
    "                if i != len(temp)-1 and len(temp[i+1][1]) == 2:\n",
    "                    if temp[i+1][1][1] == new_tag:\n",
    "                        temp[i+1][1] = new_tag    \n",
    "                    else:\n",
    "                        temp[i+1][1] = new_tag + temp[i+1][1][1]\n",
    "            except Exception:\n",
    "                pass\n",
    "\n",
    "    temp = clean_data(temp)\n",
    "    print(temp,key_file)\n",
    "print(total_tag)"
   ]
  },
  {
   "cell_type": "code",
   "execution_count": null,
   "metadata": {},
   "outputs": [],
   "source": [
    "video_file , csv_file"
   ]
  },
  {
   "cell_type": "code",
   "execution_count": null,
   "metadata": {},
   "outputs": [],
   "source": [
    "print(cap.read())\n",
    "Image.fromarray(cap.read()[1])"
   ]
  },
  {
   "cell_type": "code",
   "execution_count": null,
   "metadata": {},
   "outputs": [],
   "source": [
    "52*60+48-(49*60+12)"
   ]
  },
  {
   "cell_type": "code",
   "execution_count": null,
   "metadata": {},
   "outputs": [],
   "source": [
    "216-180"
   ]
  },
  {
   "cell_type": "code",
   "execution_count": null,
   "metadata": {},
   "outputs": [],
   "source": [
    "216-180"
   ]
  },
  {
   "cell_type": "code",
   "execution_count": null,
   "metadata": {},
   "outputs": [],
   "source": []
  }
 ],
 "metadata": {
  "kernelspec": {
   "display_name": "Python 3",
   "language": "python",
   "name": "python3"
  },
  "language_info": {
   "codemirror_mode": {
    "name": "ipython",
    "version": 3
   },
   "file_extension": ".py",
   "mimetype": "text/x-python",
   "name": "python",
   "nbconvert_exporter": "python",
   "pygments_lexer": "ipython3",
   "version": "3.6.5"
  }
 },
 "nbformat": 4,
 "nbformat_minor": 2
}
